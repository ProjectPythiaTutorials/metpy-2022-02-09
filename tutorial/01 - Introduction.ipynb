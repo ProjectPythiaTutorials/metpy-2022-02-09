{
 "cells": [
  {
   "cell_type": "markdown",
   "id": "461090f6-c1a5-4245-959c-b2d277bd0c1f",
   "metadata": {
    "tags": []
   },
   "source": [
    "<img src=\"https://github.com/Unidata/MetPy/raw/main/docs/_static/metpy_150x150.png\" width=150 alt=\"MetPy logo\"></img>\n",
    "<img src=\"https://github.com/Unidata/MetPy/raw/main/docs/_static/unidata_150x150.png\" width=150 alt=\"Unidata logo\"></img>\n",
    "\n",
    "# MetPy Tutorial\n",
    "\n",
    "---"
   ]
  },
  {
   "cell_type": "markdown",
   "id": "408ee37b-8735-424f-917e-9c48446bf160",
   "metadata": {},
   "source": [
    "## Overview\n",
    "[MetPy](https://github.com/Unidata/MetPy) is a collection of tools in Python for reading, visualizing, and performing calculations with weather data built on and within the scientific Python ecosystem and an open development model. MetPy thrives on community contributions, feedback, guidance, and expertise.\n",
    "\n",
    "This tutorial will provide an overview of MetPy's wide breadth of functionality, as well as take a deeper dive into demonstrating how MetPy might be useful for your work!"
   ]
  },
  {
   "cell_type": "markdown",
   "id": "5cef20e1-759a-4d06-b7b2-c04e172984f2",
   "metadata": {},
   "source": [
    "## Prerequisites\n",
    "\n",
    "Depending on which of the tools within MetPy you come to rely on, it may be necessary to be familiar with a variety of other libraries in the scientific Python ecosystem,\n",
    "\n",
    "| Concepts | Importance | Notes |\n",
    "| --- | --- | --- |\n",
    "| [Xarray](https://foundations.projectpythia.org/core/xarray.html) | Necessary | **Strongly encouraged** and sometimes required for complete MetPy functionality |\n",
    "| [Pint](https://pint.readthedocs.io/en/stable/tutorial.html) | Necessary | Nearly all of MetPy relies on this library for unit-correctness |\n",
    "| [NumPy](https://foundations.projectpythia.org/core/numpy.html) | Helpful | Calculations rely on NumPy functionality and interfaces |\n",
    "| [SciPy](https://docs.scipy.org/doc/scipy/tutorial/general.html) | Helpful | Scipy is used for a variety of advanced calculations and interpolation |\n",
    "| [Matplotlib](https://foundations.projectpythia.org/core/matplotlib/matplotlib.html) | Helpful | MetPy's suite of plotting tools are all built upon Matplotlib |\n",
    "| [Pandas](https://foundations.projectpythia.org/core/pandas/pandas.html) | Helpful | Particularly for METAR and a few other unique data formats |"
   ]
  },
  {
   "cell_type": "markdown",
   "id": "11503cd3-b8ec-4d71-8782-e39ff33031e4",
   "metadata": {},
   "source": [
    "---\n",
    "\n",
    "## Imports"
   ]
  },
  {
   "cell_type": "code",
   "execution_count": 1,
   "id": "16a12b90-dae4-406c-a9ec-eb9457c4fa53",
   "metadata": {},
   "outputs": [],
   "source": [
    "import metpy"
   ]
  },
  {
   "cell_type": "code",
   "execution_count": 2,
   "id": "e53bfa5e-f1af-476e-8ce9-88f717f83e9f",
   "metadata": {},
   "outputs": [
    {
     "data": {
      "text/plain": [
       "'1.2.0'"
      ]
     },
     "execution_count": 2,
     "metadata": {},
     "output_type": "execute_result"
    }
   ],
   "source": [
    "metpy.__version__"
   ]
  },
  {
   "cell_type": "code",
   "execution_count": 3,
   "id": "92bc7be8-629e-49a8-acd3-5ee02a9f5048",
   "metadata": {},
   "outputs": [
    {
     "name": "stdout",
     "output_type": "stream",
     "text": [
      "Object `metpy.calc.potential_temperature` not found.\n"
     ]
    }
   ],
   "source": [
    "metpy.calc.potential_temperature?"
   ]
  },
  {
   "cell_type": "markdown",
   "id": "7149ba72-e8f7-4f92-92d7-06502eadbec4",
   "metadata": {},
   "source": [
    "![](images/docs_ref.png \"MetPy documentation reference guide\")"
   ]
  },
  {
   "cell_type": "code",
   "execution_count": 4,
   "id": "5546c8a7-bef6-4494-8860-6e3462fbc39a",
   "metadata": {},
   "outputs": [],
   "source": [
    "import metpy.units\n",
    "import metpy.calc\n",
    "import metpy.interpolate\n",
    "import metpy.plots\n",
    "import metpy.io"
   ]
  },
  {
   "cell_type": "code",
   "execution_count": 5,
   "id": "8196b5b2-624e-4320-a16c-4b25291cf179",
   "metadata": {},
   "outputs": [
    {
     "data": {
      "text/plain": [
       "\u001b[0;31mSignature:\u001b[0m \u001b[0mmetpy\u001b[0m\u001b[0;34m.\u001b[0m\u001b[0mcalc\u001b[0m\u001b[0;34m.\u001b[0m\u001b[0mpotential_temperature\u001b[0m\u001b[0;34m(\u001b[0m\u001b[0mpressure\u001b[0m\u001b[0;34m,\u001b[0m \u001b[0mtemperature\u001b[0m\u001b[0;34m)\u001b[0m\u001b[0;34m\u001b[0m\u001b[0;34m\u001b[0m\u001b[0m\n",
       "\u001b[0;31mDocstring:\u001b[0m\n",
       "Calculate the potential temperature.\n",
       "\n",
       "Uses the Poisson equation to calculation the potential temperature\n",
       "given `pressure` and `temperature`.\n",
       "\n",
       "Parameters\n",
       "----------\n",
       "pressure : `pint.Quantity`\n",
       "    Total atmospheric pressure\n",
       "\n",
       "temperature : `pint.Quantity`\n",
       "    Air temperature\n",
       "\n",
       "Returns\n",
       "-------\n",
       "`pint.Quantity`\n",
       "    Potential temperature corresponding to the temperature and pressure\n",
       "\n",
       "See Also\n",
       "--------\n",
       "dry_lapse\n",
       "\n",
       "Notes\n",
       "-----\n",
       "Formula:\n",
       "\n",
       ".. math:: \\Theta = T (P_0 / P)^\\kappa\n",
       "\n",
       "Examples\n",
       "--------\n",
       ">>> from metpy.units import units\n",
       ">>> metpy.calc.potential_temperature(800. * units.mbar, 273. * units.kelvin)\n",
       "<Quantity(290.972015, 'kelvin')>\n",
       "\u001b[0;31mFile:\u001b[0m      ~/mambaforge/envs/pythia-metpy-tutorial/lib/python3.10/site-packages/metpy/calc/thermo.py\n",
       "\u001b[0;31mType:\u001b[0m      function\n"
      ]
     },
     "metadata": {},
     "output_type": "display_data"
    }
   ],
   "source": [
    "metpy.calc.potential_temperature?"
   ]
  },
  {
   "cell_type": "markdown",
   "id": "48026f57-6371-4892-93ac-984211e0ec4d",
   "metadata": {},
   "source": [
    "---"
   ]
  },
  {
   "cell_type": "markdown",
   "id": "f5956ff9-7935-45e6-bc05-91d865a40517",
   "metadata": {
    "jp-MarkdownHeadingCollapsed": true,
    "tags": []
   },
   "source": [
    "## Resources and references\n",
    "\n",
    " - [MetPy documentation](https://unidata.github.io/MetPy/latest/index.html)\n",
    " - [MetPy GitHub repository](https://github.com/Unidata/MetPy/)\n",
    " - [MetPy support overview](https://unidata.github.io/MetPy/latest/userguide/SUPPORT.html)\n",
    "     - Ask questions on StackOverflow with the `[metpy]` tag!\n",
    "     - [GitHub discussions](https://github.com/Unidata/MetPy/discussions) for Q&A, general discussion, announcements, and more\n",
    "     - [MetPy Gitter](https://gitter.im/Unidata/MetPy) for text chat, discussion, and support\n",
    "     - [@MetPy](https://twitter.com/MetPy) on Twitter\n",
    "     - [support-python@unidata.ucar.edu](mailto:support-python@unidata.ucar.edu) for support and [python-users mailing list signup](https://www.unidata.ucar.edu/support/#mailinglists) for announcements, etc.\n"
   ]
  }
 ],
 "metadata": {
  "kernelspec": {
   "display_name": "Python 3 (ipykernel)",
   "language": "python",
   "name": "python3"
  },
  "language_info": {
   "codemirror_mode": {
    "name": "ipython",
    "version": 3
   },
   "file_extension": ".py",
   "mimetype": "text/x-python",
   "name": "python",
   "nbconvert_exporter": "python",
   "pygments_lexer": "ipython3",
   "version": "3.10.2"
  }
 },
 "nbformat": 4,
 "nbformat_minor": 5
}
