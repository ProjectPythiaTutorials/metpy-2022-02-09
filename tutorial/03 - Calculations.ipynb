{
 "cells": [
  {
   "cell_type": "raw",
   "id": "1cadb9a7-2e91-433e-8988-c15a584fa0af",
   "metadata": {},
   "source": [
    "mention interp/xsec"
   ]
  },
  {
   "cell_type": "markdown",
   "id": "c08fed90-0f9c-4e46-a2f2-cf4a6b0c800d",
   "metadata": {
    "tags": []
   },
   "source": [
    "<img src=\"https://github.com/Unidata/MetPy/raw/main/docs/_static/metpy_150x150.png\" width=150 alt=\"MetPy logo\"></img>\n",
    "<img src=\"https://github.com/Unidata/MetPy/raw/main/docs/_static/unidata_150x150.png\" width=150 alt=\"Unidata logo\"></img>\n",
    "\n",
    "# Units and Xarray\n",
    "\n",
    "---"
   ]
  },
  {
   "cell_type": "markdown",
   "id": "8772eb40-fea1-484e-a54e-f7e7f36b23f3",
   "metadata": {},
   "source": [
    "## Overview\n",
    "[MetPy](https://github.com/Unidata/MetPy) is a collection of tools in Python for reading, visualizing, and performing calculations with weather data built on and within the scientific Python ecosystem and an open development model. MetPy thrives on community contributions, feedback, guidance, and expertise.\n",
    "\n",
    "This tutorial will provide an overview of MetPy's wide breadth of functionality, as well as take a deeper dive into demonstrating how MetPy might be useful for your work!"
   ]
  },
  {
   "cell_type": "markdown",
   "id": "ea2f2c16-ab37-46e6-b144-c5451e848d57",
   "metadata": {},
   "source": [
    "---\n",
    "\n",
    "## Imports"
   ]
  },
  {
   "cell_type": "code",
   "execution_count": null,
   "id": "5eef8a61-ad50-4794-a09c-132fe5badb82",
   "metadata": {},
   "outputs": [],
   "source": []
  }
 ],
 "metadata": {
  "kernelspec": {
   "display_name": "Python 3 (ipykernel)",
   "language": "python",
   "name": "python3"
  },
  "language_info": {
   "codemirror_mode": {
    "name": "ipython",
    "version": 3
   },
   "file_extension": ".py",
   "mimetype": "text/x-python",
   "name": "python",
   "nbconvert_exporter": "python",
   "pygments_lexer": "ipython3",
   "version": "3.10.2"
  }
 },
 "nbformat": 4,
 "nbformat_minor": 5
}
