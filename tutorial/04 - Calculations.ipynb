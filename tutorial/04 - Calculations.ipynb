{
 "cells": [
  {
   "cell_type": "markdown",
   "id": "c08fed90-0f9c-4e46-a2f2-cf4a6b0c800d",
   "metadata": {
    "tags": []
   },
   "source": [
    "<img src=\"https://github.com/Unidata/MetPy/raw/main/docs/_static/metpy_150x150.png\" width=150 alt=\"MetPy logo\"></img>\n",
    "<img src=\"https://github.com/Unidata/MetPy/raw/main/docs/_static/unidata_150x150.png\" width=150 alt=\"Unidata logo\"></img>\n",
    "\n",
    "# Calculations\n",
    "\n",
    "---"
   ]
  },
  {
   "cell_type": "markdown",
   "id": "8772eb40-fea1-484e-a54e-f7e7f36b23f3",
   "metadata": {},
   "source": [
    "## Overview\n"
   ]
  },
  {
   "cell_type": "markdown",
   "id": "ea2f2c16-ab37-46e6-b144-c5451e848d57",
   "metadata": {},
   "source": [
    "---\n",
    "\n",
    "## Imports"
   ]
  },
  {
   "cell_type": "markdown",
   "id": "89608976-b502-4fc1-a673-5dbf5e571351",
   "metadata": {},
   "source": [
    "## Meteorological calculations\n",
    "Soundings, indices, thermodynamics, oh my"
   ]
  },
  {
   "cell_type": "markdown",
   "id": "ab1716c8-09a5-4b03-9613-8fbe86a89a42",
   "metadata": {},
   "source": [
    "## Interpolation"
   ]
  },
  {
   "cell_type": "markdown",
   "id": "70bf8c7b-7ea2-4ae7-bc67-d6dcef9f4328",
   "metadata": {},
   "source": [
    "## Cross sections"
   ]
  }
 ],
 "metadata": {
  "kernelspec": {
   "display_name": "Python 3 (ipykernel)",
   "language": "python",
   "name": "python3"
  },
  "language_info": {
   "codemirror_mode": {
    "name": "ipython",
    "version": 3
   },
   "file_extension": ".py",
   "mimetype": "text/x-python",
   "name": "python",
   "nbconvert_exporter": "python",
   "pygments_lexer": "ipython3",
   "version": "3.10.2"
  }
 },
 "nbformat": 4,
 "nbformat_minor": 5
}
