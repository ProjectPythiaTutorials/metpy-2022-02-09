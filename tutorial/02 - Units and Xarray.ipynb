{
 "cells": [
  {
   "cell_type": "markdown",
   "id": "599651a8-d859-4291-b2a6-44bfd7b85094",
   "metadata": {
    "tags": []
   },
   "source": [
    "<img src=\"https://github.com/Unidata/MetPy/raw/main/docs/_static/metpy_150x150.png\" width=150 alt=\"MetPy logo\"></img>\n",
    "<img src=\"https://github.com/Unidata/MetPy/raw/main/docs/_static/unidata_150x150.png\" width=150 alt=\"Unidata logo\"></img>\n",
    "\n",
    "# Units and Xarray\n",
    "\n",
    "---"
   ]
  },
  {
   "cell_type": "markdown",
   "id": "ccc9b89d-6562-4609-81e7-0c87438435fd",
   "metadata": {},
   "source": [
    "## Overview\n",
    "[MetPy](https://github.com/Unidata/MetPy) is a collection of tools in Python for reading, visualizing, and performing calculations with weather data built on and within the scientific Python ecosystem and an open development model. MetPy thrives on community contributions, feedback, guidance, and expertise.\n",
    "\n",
    "This tutorial will provide an overview of MetPy's wide breadth of functionality, as well as take a deeper dive into demonstrating how MetPy might be useful for your work!"
   ]
  },
  {
   "cell_type": "markdown",
   "id": "51237990-c049-41f4-8951-64a037f404ff",
   "metadata": {},
   "source": [
    "---\n",
    "\n",
    "## Imports"
   ]
  },
  {
   "cell_type": "code",
   "execution_count": null,
   "id": "1d562e2b-9a9b-4dd1-9963-64170d8c2d5e",
   "metadata": {},
   "outputs": [],
   "source": []
  }
 ],
 "metadata": {
  "kernelspec": {
   "display_name": "Python 3 (ipykernel)",
   "language": "python",
   "name": "python3"
  },
  "language_info": {
   "codemirror_mode": {
    "name": "ipython",
    "version": 3
   },
   "file_extension": ".py",
   "mimetype": "text/x-python",
   "name": "python",
   "nbconvert_exporter": "python",
   "pygments_lexer": "ipython3",
   "version": "3.10.2"
  }
 },
 "nbformat": 4,
 "nbformat_minor": 5
}
