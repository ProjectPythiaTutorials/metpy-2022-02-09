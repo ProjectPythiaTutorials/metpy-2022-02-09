{
 "cells": [
  {
   "cell_type": "code",
   "execution_count": null,
   "id": "375a4ae8-a3fc-4187-af03-c5956a716d4a",
   "metadata": {},
   "outputs": [],
   "source": []
  },
  {
   "cell_type": "markdown",
   "id": "c3e4ae7e-7050-492e-a9ff-9ec9eaf9819a",
   "metadata": {
    "tags": []
   },
   "source": [
    "<img src=\"https://github.com/Unidata/MetPy/raw/main/docs/_static/metpy_150x150.png\" width=150 alt=\"MetPy logo\"></img>\n",
    "<img src=\"https://github.com/Unidata/MetPy/raw/main/docs/_static/unidata_150x150.png\" width=150 alt=\"Unidata logo\"></img>\n",
    "\n",
    "# Units and Xarray\n",
    "\n",
    "---"
   ]
  },
  {
   "cell_type": "markdown",
   "id": "99358005-ad37-413f-b240-5aee10f2bd1c",
   "metadata": {},
   "source": [
    "## Overview\n",
    "[MetPy](https://github.com/Unidata/MetPy) is a collection of tools in Python for reading, visualizing, and performing calculations with weather data built on and within the scientific Python ecosystem and an open development model. MetPy thrives on community contributions, feedback, guidance, and expertise.\n",
    "\n",
    "This tutorial will provide an overview of MetPy's wide breadth of functionality, as well as take a deeper dive into demonstrating how MetPy might be useful for your work!"
   ]
  },
  {
   "cell_type": "markdown",
   "id": "d76af521-894a-4c43-b0bc-0baba92c4b9d",
   "metadata": {},
   "source": [
    "---\n",
    "\n",
    "## Imports"
   ]
  },
  {
   "cell_type": "code",
   "execution_count": null,
   "id": "dace5a4d-6f5c-41f1-a25b-5916d753a392",
   "metadata": {},
   "outputs": [],
   "source": []
  }
 ],
 "metadata": {
  "kernelspec": {
   "display_name": "Python 3 (ipykernel)",
   "language": "python",
   "name": "python3"
  },
  "language_info": {
   "codemirror_mode": {
    "name": "ipython",
    "version": 3
   },
   "file_extension": ".py",
   "mimetype": "text/x-python",
   "name": "python",
   "nbconvert_exporter": "python",
   "pygments_lexer": "ipython3",
   "version": "3.10.2"
  }
 },
 "nbformat": 4,
 "nbformat_minor": 5
}
