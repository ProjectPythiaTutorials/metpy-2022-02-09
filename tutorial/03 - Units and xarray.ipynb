{
 "cells": [
  {
   "cell_type": "markdown",
   "id": "599651a8-d859-4291-b2a6-44bfd7b85094",
   "metadata": {
    "tags": []
   },
   "source": [
    "<img src=\"https://github.com/Unidata/MetPy/raw/main/docs/_static/metpy_150x150.png\" width=150 alt=\"MetPy logo\"></img>\n",
    "<img src=\"https://github.com/Unidata/MetPy/raw/main/docs/_static/unidata_150x150.png\" width=150 alt=\"Unidata logo\"></img>\n",
    "\n",
    "# Units and xarray\n",
    "\n",
    "---"
   ]
  },
  {
   "cell_type": "markdown",
   "id": "ccc9b89d-6562-4609-81e7-0c87438435fd",
   "metadata": {},
   "source": [
    "## Overview\n"
   ]
  },
  {
   "cell_type": "markdown",
   "id": "51237990-c049-41f4-8951-64a037f404ff",
   "metadata": {},
   "source": [
    "---\n",
    "\n",
    "## Imports"
   ]
  },
  {
   "cell_type": "markdown",
   "id": "d9ad9932-5b99-4d42-babb-eef263554773",
   "metadata": {},
   "source": [
    "## Pint"
   ]
  },
  {
   "cell_type": "markdown",
   "id": "158fef9b-8424-42d8-8421-6a8ffeb0941e",
   "metadata": {},
   "source": [
    "## Xarray"
   ]
  }
 ],
 "metadata": {
  "kernelspec": {
   "display_name": "Python 3 (ipykernel)",
   "language": "python",
   "name": "python3"
  },
  "language_info": {
   "codemirror_mode": {
    "name": "ipython",
    "version": 3
   },
   "file_extension": ".py",
   "mimetype": "text/x-python",
   "name": "python",
   "nbconvert_exporter": "python",
   "pygments_lexer": "ipython3",
   "version": "3.10.2"
  }
 },
 "nbformat": 4,
 "nbformat_minor": 5
}
