{
 "cells": [
  {
   "cell_type": "code",
   "execution_count": null,
   "id": "4ea8ba18-193e-491e-8d31-8930603772c7",
   "metadata": {},
   "outputs": [],
   "source": []
  },
  {
   "cell_type": "markdown",
   "id": "d17fb45b-5381-4c38-81df-ec414f5d64aa",
   "metadata": {
    "tags": []
   },
   "source": [
    "<img src=\"https://github.com/Unidata/MetPy/raw/main/docs/_static/metpy_150x150.png\" width=150 alt=\"MetPy logo\"></img>\n",
    "<img src=\"https://github.com/Unidata/MetPy/raw/main/docs/_static/unidata_150x150.png\" width=150 alt=\"Unidata logo\"></img>\n",
    "\n",
    "# Units and Xarray\n",
    "\n",
    "---"
   ]
  },
  {
   "cell_type": "markdown",
   "id": "ae254876-222d-42b8-bcea-1003aeb29364",
   "metadata": {},
   "source": [
    "## Overview\n",
    "[MetPy](https://github.com/Unidata/MetPy) is a collection of tools in Python for reading, visualizing, and performing calculations with weather data built on and within the scientific Python ecosystem and an open development model. MetPy thrives on community contributions, feedback, guidance, and expertise.\n",
    "\n",
    "This tutorial will provide an overview of MetPy's wide breadth of functionality, as well as take a deeper dive into demonstrating how MetPy might be useful for your work!"
   ]
  },
  {
   "cell_type": "markdown",
   "id": "d292c502-879b-4bd5-8bc2-aa3ede62773b",
   "metadata": {},
   "source": [
    "---\n",
    "\n",
    "## Imports"
   ]
  },
  {
   "cell_type": "code",
   "execution_count": null,
   "id": "1d562e2b-9a9b-4dd1-9963-64170d8c2d5e",
   "metadata": {},
   "outputs": [],
   "source": []
  }
 ],
 "metadata": {
  "kernelspec": {
   "display_name": "Python 3 (ipykernel)",
   "language": "python",
   "name": "python3"
  },
  "language_info": {
   "codemirror_mode": {
    "name": "ipython",
    "version": 3
   },
   "file_extension": ".py",
   "mimetype": "text/x-python",
   "name": "python",
   "nbconvert_exporter": "python",
   "pygments_lexer": "ipython3",
   "version": "3.10.2"
  }
 },
 "nbformat": 4,
 "nbformat_minor": 5
}
